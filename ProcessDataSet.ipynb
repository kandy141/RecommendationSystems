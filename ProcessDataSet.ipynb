{
 "cells": [
  {
   "cell_type": "markdown",
   "metadata": {},
   "source": [
    "# Headers"
   ]
  },
  {
   "cell_type": "code",
   "execution_count": 13,
   "metadata": {},
   "outputs": [],
   "source": [
    "\n",
    "import pandas as pd \n",
    "from collections import defaultdict\n",
    "import igraph as ig\n"
   ]
  },
  {
   "cell_type": "markdown",
   "metadata": {},
   "source": [
    "\n",
    "# Class for Session Node to store time of visit for User -> POI \n"
   ]
  },
  {
   "cell_type": "code",
   "execution_count": 6,
   "metadata": {},
   "outputs": [],
   "source": [
    "\n",
    "class SessionNode:\n",
    "    def __init__(self, hourSlot):\n",
    "        self.hour = hourSlot\n",
    "        "
   ]
  },
  {
   "cell_type": "markdown",
   "metadata": {},
   "source": [
    "\n",
    "# Class for User Node to store user info\n"
   ]
  },
  {
   "cell_type": "code",
   "execution_count": 7,
   "metadata": {},
   "outputs": [],
   "source": [
    "\n",
    "class UserNode:\n",
    "    def __init__(self, userId):\n",
    "        self.userId = userId\n"
   ]
  },
  {
   "cell_type": "markdown",
   "metadata": {},
   "source": [
    "\n",
    "# Class for Point of Interest (POI) Node to store various POIs like malls, parks, restaurants, visiting places etc..\n"
   ]
  },
  {
   "cell_type": "code",
   "execution_count": 8,
   "metadata": {},
   "outputs": [],
   "source": [
    "\n",
    "class POINode:\n",
    "    def __init__(self, venueId, venueTypeId=None, venueName=None, latitude=None, longitude=None):\n",
    "        self.venueId = venueId\n",
    "        self.venueTypeId = venueTypeId\n",
    "        self.venueName = venueName\n",
    "        self.location = (latitude, longitude)\n",
    "        "
   ]
  },
  {
   "cell_type": "markdown",
   "metadata": {},
   "source": [
    "\n",
    "# Class for graph that represents POIs, user info and time of visits\n"
   ]
  },
  {
   "cell_type": "code",
   "execution_count": 9,
   "metadata": {},
   "outputs": [],
   "source": [
    "\n",
    "class Graph:\n",
    "    def __init__(self):\n",
    "        self.userToSessionLinks = defaultdict(list) # userNode  -> [(sessionNode, weight)]\n",
    "        self.sessionToPOILinks = defaultdict(list)  # sessionNode -> [(POINode, weight)]\n",
    "        \n",
    "        #auxiliary lookups for handling redundant data from dataset\n",
    "        self.userIdToUserNodes = {}\n",
    "        self.venueIdToPOINOdes = {}\n",
    "    \n",
    "    \n",
    "    def loadGraph(self,dataset):\n",
    "        data = pd.read_csv(dataset) \n",
    "        for index, row in data.head(5).iterrows():\n",
    "            #print(row['userID'], row['venueID'])\n",
    "            #userID,venueID,date,year,monthOfYear,dayOfWeek,dayOfMonth,dayHour,visitCount\n",
    "            userNode = None\n",
    "            poiNode = None\n",
    "            sessionNode = None\n",
    "            \n",
    "            userId = row['userID']\n",
    "            if userId in self.userIdToUserNodes:\n",
    "                userNode = self.userIdToUserNodes[userId]\n",
    "            else:\n",
    "                userNode = UserNode(userId) \n",
    "                self.userIdToUserNodes[userId] = userNode\n",
    "            \n",
    "            venueId = row['venueID']\n",
    "            if venueId in self.venueIdToPOINOdes:\n",
    "                poiNode = self.venueIdToPOINOdes[venueId]\n",
    "            else:\n",
    "                poiNode = POINode(venueId)\n",
    "                self.venueIdToPOINOdes[venueId] = poiNode\n",
    "            \n",
    "            hourSlot = row['dayHour']\n",
    "            \n",
    "            if userNode in self.userToSessionLinks:\n",
    "                sessionNodeWeights = self.userToSessionLinks[userNode]\n",
    "                #find hour slot in existing sessionNodes\n",
    "                foundHourSlot = False\n",
    "                for sNode in sessionNodeWeights:\n",
    "                    #import pdb; pdb.set_trace()\n",
    "                    sessionNode = sNode[0]\n",
    "                    if sessionNode.hour == hourSlot:\n",
    "                        sNode[1] += 1    #incrementing weight for the hour slot \n",
    "                        foundHourSlot = True\n",
    "                        break\n",
    "                if not foundHourSlot:\n",
    "                    sessionNode = SessionNode(hourSlot)\n",
    "                    self.userToSessionLinks[userNode].append([sessionNode, 1])\n",
    "            \n",
    "            else:\n",
    "                #no userNode mapping\n",
    "                sessionNode = SessionNode(hourSlot)\n",
    "                self.userToSessionLinks[userNode] = [[sessionNode, 1]]\n",
    "            \n",
    "            \n",
    "            if sessionNode in self.sessionToPOILinks:\n",
    "                poiNodeWeights = self.sessionToPOILinks[sessionNode]\n",
    "                foundPOINode = False\n",
    "                for pNode in poiNodeWeights:\n",
    "                    if pNode[0] == poiNode:\n",
    "                        pNode[1] += 1\n",
    "                        foundPOINode = True\n",
    "                        break\n",
    "                if not foundPOINode:\n",
    "                    self.sessionToPOILinks[sessionNode].append([poiNode, 1])\n",
    "            else:\n",
    "                self.sessionToPOILinks[sessionNode] = [[poiNode, 1]]\n",
    "            \n",
    "    \n",
    "    \n",
    "    def lookupFromGraph(self, userId):\n",
    "        pass\n",
    "        \n",
    "    "
   ]
  },
  {
   "cell_type": "code",
   "execution_count": 22,
   "metadata": {},
   "outputs": [
    {
     "name": "stdout",
     "output_type": "stream",
     "text": [
      "{7509: <__main__.UserNode instance at 0x7f4dde899fc8>}\n",
      "----------------------\n",
      "defaultdict(<type 'list'>, {<__main__.UserNode instance at 0x7f4dde899fc8>: [[<__main__.SessionNode instance at 0x7f4ddf20fd88>, 1], [<__main__.SessionNode instance at 0x7f4dd8430950>, 1], [<__main__.SessionNode instance at 0x7f4dd8430830>, 1], [<__main__.SessionNode instance at 0x7f4dd8430878>, 1], [<__main__.SessionNode instance at 0x7f4dd9c6e098>, 1]]})\n",
      "----------------------\n",
      "{34034: <__main__.POINode instance at 0x7f4dd84303f8>, 487163: <__main__.POINode instance at 0x7f4dd8430170>, 11492: <__main__.POINode instance at 0x7f4dde8b9518>, 47021: <__main__.POINode instance at 0x7f4dd84308c0>, 28838: <__main__.POINode instance at 0x7f4dd8a1c830>}\n",
      "----------------------\n",
      "defaultdict(<type 'list'>, {<__main__.SessionNode instance at 0x7f4ddf20fd88>: [[<__main__.POINode instance at 0x7f4dd8a1c830>, 1]], <__main__.SessionNode instance at 0x7f4dd9c6e098>: [[<__main__.POINode instance at 0x7f4dd84308c0>, 1]], <__main__.SessionNode instance at 0x7f4dd8430830>: [[<__main__.POINode instance at 0x7f4dd8430170>, 1]], <__main__.SessionNode instance at 0x7f4dd8430950>: [[<__main__.POINode instance at 0x7f4dde8b9518>, 1]], <__main__.SessionNode instance at 0x7f4dd8430878>: [[<__main__.POINode instance at 0x7f4dd84303f8>, 1]]})\n"
     ]
    }
   ],
   "source": [
    "graph = Graph()\n",
    "graph.loadGraph(\"export.csv\")\n",
    "print(graph.userIdToUserNodes)\n",
    "print ('----------------------')\n",
    "print(graph.userToSessionLinks)\n",
    "print ('----------------------')\n",
    "print (graph.venueIdToPOINOdes)\n",
    "print ('----------------------')\n",
    "print (graph.sessionToPOILinks)"
   ]
  },
  {
   "cell_type": "code",
   "execution_count": 21,
   "metadata": {},
   "outputs": [],
   "source": [
    "\n",
    "def visualizeGraph():\n",
    "    edges = []\n",
    "    for key in graph.userToSessionLinks:\n",
    "        userNode = key\n",
    "        sessionNodesList = graph.userToSessionLinks[key]\n",
    "        for item in sessionNodesList:\n",
    "            edges.append(tuple([userNode, item[0]]))\n",
    "    print (edges)\n",
    "    G = ig.Graph(edges, directed=False)\n",
    "    "
   ]
  },
  {
   "cell_type": "code",
   "execution_count": null,
   "metadata": {},
   "outputs": [],
   "source": []
  }
 ],
 "metadata": {
  "kernelspec": {
   "display_name": "Python 2",
   "language": "python",
   "name": "python2"
  },
  "language_info": {
   "codemirror_mode": {
    "name": "ipython",
    "version": 2
   },
   "file_extension": ".py",
   "mimetype": "text/x-python",
   "name": "python",
   "nbconvert_exporter": "python",
   "pygments_lexer": "ipython2",
   "version": "2.7.12"
  }
 },
 "nbformat": 4,
 "nbformat_minor": 2
}
